{
 "cells": [
  {
   "cell_type": "code",
   "execution_count": 7,
   "metadata": {},
   "outputs": [],
   "source": [
    "import os \n",
    "import zipfile"
   ]
  },
  {
   "cell_type": "code",
   "execution_count": 8,
   "metadata": {},
   "outputs": [],
   "source": [
    "local_zip = 'image.zip'\n",
    "zip_ref = zipfile.ZipFile(local_zip, 'r')\n",
    "zip_ref.extractall('image')\n",
    "zip_ref.close()"
   ]
  },
  {
   "cell_type": "code",
   "execution_count": 9,
   "metadata": {},
   "outputs": [],
   "source": [
    "base_dir = 'image'\n",
    "train_dir = os.path.join(base_dir, 'Training')\n",
    "validation_dir = os.path.join(base_dir, 'Testing')"
   ]
  },
  {
   "cell_type": "code",
   "execution_count": 10,
   "metadata": {},
   "outputs": [],
   "source": [
    "train_glioma_tumor_dir = os.path.join(train_dir, 'glioma_tumor')\n",
    "train_meningioma_tumor_dir = os.path.join(train_dir, 'meningioma_tumor')\n",
    "train_no_tumor_dir = os.path.join(train_dir, 'no_tumor')\n",
    "train_pituitary_tumor_dir = os.path.join(train_dir, 'pituitary_tumor')"
   ]
  },
  {
   "cell_type": "code",
   "execution_count": 11,
   "metadata": {},
   "outputs": [],
   "source": [
    "test_glioma_tumor_dir = os.path.join(validation_dir, 'glioma_tumor')\n",
    "test_meningioma_tumor_dir = os.path.join(validation_dir, 'meningioma_tumor')\n",
    "test_no_tumor_dir = os.path.join(validation_dir, 'no_tumor')\n",
    "test_pituitary_tumor_dir = os.path.join(validation_dir, 'pituitary_tumor')"
   ]
  },
  {
   "cell_type": "code",
   "execution_count": 12,
   "metadata": {},
   "outputs": [],
   "source": [
    "train_glioma_tumor_fnames = os.listdir( train_glioma_tumor_dir )\n",
    "train_meningioma_fnames = os.listdir( train_meningioma_tumor_dir )"
   ]
  },
  {
   "cell_type": "code",
   "execution_count": 13,
   "metadata": {},
   "outputs": [
    {
     "name": "stdout",
     "output_type": "stream",
     "text": [
      "['gg (362).jpg', 'gg (698).jpg', 'gg (732).jpg', 'gg (227).jpg', 'gg (677).jpg', 'gg (765).jpg', 'gg (335).jpg', 'gg (620).jpg', 'gg (270).jpg', 'gg (159).jpg']\n",
      "['m1(69).jpg', 'm3 (126).jpg', 'm3 (62).jpg', 'm2 (62).jpg', 'm1(86).jpg', 'm (84).jpg', 'm1(162).jpg', 'm3 (171).jpg', 'm2 (35).jpg', 'm3 (35).jpg']\n"
     ]
    }
   ],
   "source": [
    "print(train_glioma_tumor_fnames[:10])\n",
    "print(train_meningioma_fnames[:10])"
   ]
  },
  {
   "cell_type": "code",
   "execution_count": 14,
   "metadata": {},
   "outputs": [],
   "source": [
    "import tensorflow as tf\n",
    "import keras_preprocessing\n",
    "from keras_preprocessing import image\n",
    "from keras_preprocessing.image import ImageDataGenerator"
   ]
  },
  {
   "cell_type": "code",
   "execution_count": 15,
   "metadata": {},
   "outputs": [],
   "source": [
    "train_datagen = ImageDataGenerator(rescale = 1./255,\n",
    "                                   rotation_range=25,\n",
    "                                   height_shift_range = 0.3,\n",
    "                                   width_shift_range = 0.3,\n",
    "                                   zoom_range = 0.2,\n",
    "                                   horizontal_flip = True,\n",
    "                                   vertical_flip = True,\n",
    "                                   fill_mode = \"nearest\")\n",
    "\n",
    "test_datagen = ImageDataGenerator(rescale = 1./255)"
   ]
  },
  {
   "cell_type": "code",
   "execution_count": 17,
   "metadata": {},
   "outputs": [
    {
     "name": "stdout",
     "output_type": "stream",
     "text": [
      "Found 2870 images belonging to 4 classes.\n",
      "Found 394 images belonging to 4 classes.\n"
     ]
    }
   ],
   "source": [
    "train_generator = train_datagen.flow_from_directory(train_dir,\n",
    "                                                    batch_size=32,\n",
    "                                                    class_mode=\"categorical\",\n",
    "                                                    target_size=(224, 224)) \n",
    "\n",
    "validation_generator =  test_datagen.flow_from_directory(validation_dir,\n",
    "                                                         batch_size=32,\n",
    "                                                         class_mode  = 'categorical',\n",
    "                                                         target_size = (224, 224))"
   ]
  },
  {
   "cell_type": "code",
   "execution_count": 27,
   "metadata": {},
   "outputs": [],
   "source": [
    "model = tf.keras.models.Sequential([\n",
    "    tf.keras.layers.Conv2D(16,(3,3),activation = 'relu',input_shape=(224,224,3)),\n",
    "    tf.keras.layers.MaxPooling2D(2,2),\n",
    "    tf.keras.layers.Conv2D(32,(3,3),activation = 'relu'),\n",
    "    tf.keras.layers.MaxPooling2D(2,2),\n",
    "    tf.keras.layers.Conv2D(64,(3,3),activation = 'relu'),\n",
    "    tf.keras.layers.MaxPooling2D(2,2),\n",
    "    tf.keras.layers.Flatten(),\n",
    "    tf.keras.layers.Dropout(0.5),\n",
    "    tf.keras.layers.Dense(4,activation='softmax')                          \n",
    "])"
   ]
  },
  {
   "cell_type": "code",
   "execution_count": 28,
   "metadata": {},
   "outputs": [
    {
     "name": "stdout",
     "output_type": "stream",
     "text": [
      "Model: \"sequential_1\"\n",
      "_________________________________________________________________\n",
      "Layer (type)                 Output Shape              Param #   \n",
      "=================================================================\n",
      "conv2d_3 (Conv2D)            (None, 222, 222, 16)      448       \n",
      "_________________________________________________________________\n",
      "max_pooling2d_3 (MaxPooling2 (None, 111, 111, 16)      0         \n",
      "_________________________________________________________________\n",
      "conv2d_4 (Conv2D)            (None, 109, 109, 32)      4640      \n",
      "_________________________________________________________________\n",
      "max_pooling2d_4 (MaxPooling2 (None, 54, 54, 32)        0         \n",
      "_________________________________________________________________\n",
      "conv2d_5 (Conv2D)            (None, 52, 52, 64)        18496     \n",
      "_________________________________________________________________\n",
      "max_pooling2d_5 (MaxPooling2 (None, 26, 26, 64)        0         \n",
      "_________________________________________________________________\n",
      "flatten_1 (Flatten)          (None, 43264)             0         \n",
      "_________________________________________________________________\n",
      "dropout_1 (Dropout)          (None, 43264)             0         \n",
      "_________________________________________________________________\n",
      "dense_1 (Dense)              (None, 4)                 173060    \n",
      "=================================================================\n",
      "Total params: 196,644\n",
      "Trainable params: 196,644\n",
      "Non-trainable params: 0\n",
      "_________________________________________________________________\n"
     ]
    }
   ],
   "source": [
    "model.summary()"
   ]
  },
  {
   "cell_type": "code",
   "execution_count": 29,
   "metadata": {},
   "outputs": [],
   "source": [
    "from tensorflow.keras.optimizers import RMSprop\n",
    "model.compile(optimizer = \"adam\",\n",
    "              loss = 'categorical_crossentropy',\n",
    "              metrics=['accuracy'])"
   ]
  },
  {
   "cell_type": "code",
   "execution_count": 30,
   "metadata": {},
   "outputs": [
    {
     "name": "stdout",
     "output_type": "stream",
     "text": [
      "Epoch 1/50\n",
      "89/89 [==============================] - 122s 1s/step - loss: 1.3002 - accuracy: 0.3654 - val_loss: 1.6153 - val_accuracy: 0.2344\n",
      "Epoch 2/50\n",
      "89/89 [==============================] - 126s 1s/step - loss: 1.2173 - accuracy: 0.4457 - val_loss: 2.0013 - val_accuracy: 0.1797\n",
      "Epoch 3/50\n",
      "89/89 [==============================] - 108s 1s/step - loss: 1.1568 - accuracy: 0.4834 - val_loss: 2.0689 - val_accuracy: 0.2786\n",
      "Epoch 4/50\n",
      "89/89 [==============================] - 106s 1s/step - loss: 1.1063 - accuracy: 0.5144 - val_loss: 2.5859 - val_accuracy: 0.3307\n",
      "Epoch 5/50\n",
      "89/89 [==============================] - 106s 1s/step - loss: 1.0321 - accuracy: 0.5592 - val_loss: 2.3886 - val_accuracy: 0.4010\n",
      "Epoch 6/50\n",
      "89/89 [==============================] - 125s 1s/step - loss: 0.9616 - accuracy: 0.5920 - val_loss: 2.5608 - val_accuracy: 0.4453\n",
      "Epoch 7/50\n",
      "89/89 [==============================] - 110s 1s/step - loss: 0.9838 - accuracy: 0.5853 - val_loss: 2.7752 - val_accuracy: 0.4271\n",
      "Epoch 8/50\n",
      "89/89 [==============================] - 217s 2s/step - loss: 0.9191 - accuracy: 0.6113 - val_loss: 3.7666 - val_accuracy: 0.3932\n",
      "Epoch 9/50\n",
      "89/89 [==============================] - 213s 2s/step - loss: 0.9192 - accuracy: 0.6106 - val_loss: 2.2140 - val_accuracy: 0.3464\n",
      "Epoch 10/50\n",
      "89/89 [==============================] - 222s 2s/step - loss: 0.9047 - accuracy: 0.6304 - val_loss: 3.2278 - val_accuracy: 0.4245\n",
      "Epoch 11/50\n",
      "89/89 [==============================] - 116s 1s/step - loss: 0.8878 - accuracy: 0.6258 - val_loss: 2.9799 - val_accuracy: 0.4193\n",
      "Epoch 12/50\n",
      "89/89 [==============================] - 118s 1s/step - loss: 0.8729 - accuracy: 0.6328 - val_loss: 2.6692 - val_accuracy: 0.4427\n",
      "Epoch 13/50\n",
      "89/89 [==============================] - 110s 1s/step - loss: 0.8694 - accuracy: 0.6314 - val_loss: 2.8133 - val_accuracy: 0.4401\n",
      "Epoch 14/50\n",
      "89/89 [==============================] - 110s 1s/step - loss: 0.8382 - accuracy: 0.6438 - val_loss: 2.6275 - val_accuracy: 0.4609\n",
      "Epoch 15/50\n",
      "89/89 [==============================] - 116s 1s/step - loss: 0.8477 - accuracy: 0.6473 - val_loss: 3.7540 - val_accuracy: 0.3620\n",
      "Epoch 16/50\n",
      "89/89 [==============================] - 179s 2s/step - loss: 0.8243 - accuracy: 0.6607 - val_loss: 3.5153 - val_accuracy: 0.3854\n",
      "Epoch 17/50\n",
      "89/89 [==============================] - 169s 2s/step - loss: 0.8164 - accuracy: 0.6557 - val_loss: 3.8894 - val_accuracy: 0.3698\n",
      "Epoch 18/50\n",
      "89/89 [==============================] - 165s 2s/step - loss: 0.8074 - accuracy: 0.6628 - val_loss: 2.9603 - val_accuracy: 0.4479\n",
      "Epoch 19/50\n",
      "89/89 [==============================] - 157s 2s/step - loss: 0.7910 - accuracy: 0.6705 - val_loss: 3.1560 - val_accuracy: 0.4167\n",
      "Epoch 20/50\n",
      "89/89 [==============================] - 159s 2s/step - loss: 0.7979 - accuracy: 0.6667 - val_loss: 3.3466 - val_accuracy: 0.4323\n",
      "Epoch 21/50\n",
      "89/89 [==============================] - 159s 2s/step - loss: 0.7802 - accuracy: 0.6822 - val_loss: 3.1983 - val_accuracy: 0.4635\n",
      "Epoch 22/50\n",
      "89/89 [==============================] - 157s 2s/step - loss: 0.7942 - accuracy: 0.6705 - val_loss: 2.9396 - val_accuracy: 0.4922\n",
      "Epoch 23/50\n",
      "89/89 [==============================] - 157s 2s/step - loss: 0.7757 - accuracy: 0.6709 - val_loss: 3.3457 - val_accuracy: 0.4323\n",
      "Epoch 24/50\n",
      "89/89 [==============================] - 155s 2s/step - loss: 0.7961 - accuracy: 0.6642 - val_loss: 3.4572 - val_accuracy: 0.4349\n",
      "Epoch 25/50\n",
      "89/89 [==============================] - 162s 2s/step - loss: 0.7512 - accuracy: 0.6942 - val_loss: 3.9511 - val_accuracy: 0.4219\n",
      "Epoch 26/50\n",
      "89/89 [==============================] - 177s 2s/step - loss: 0.7500 - accuracy: 0.6892 - val_loss: 3.3623 - val_accuracy: 0.4531\n",
      "Epoch 27/50\n",
      "89/89 [==============================] - 117s 1s/step - loss: 0.7359 - accuracy: 0.7019 - val_loss: 3.2458 - val_accuracy: 0.4557\n",
      "Epoch 28/50\n",
      "89/89 [==============================] - 130s 1s/step - loss: 0.7642 - accuracy: 0.6900 - val_loss: 3.0623 - val_accuracy: 0.4219\n",
      "Epoch 29/50\n",
      "89/89 [==============================] - 124s 1s/step - loss: 0.7083 - accuracy: 0.7174 - val_loss: 3.5897 - val_accuracy: 0.4010\n",
      "Epoch 30/50\n",
      "89/89 [==============================] - 119s 1s/step - loss: 0.7289 - accuracy: 0.6959 - val_loss: 4.1097 - val_accuracy: 0.3984\n",
      "Epoch 31/50\n",
      "89/89 [==============================] - 108s 1s/step - loss: 0.7174 - accuracy: 0.7040 - val_loss: 3.8088 - val_accuracy: 0.4297\n",
      "Epoch 32/50\n",
      "89/89 [==============================] - 109s 1s/step - loss: 0.7061 - accuracy: 0.7118 - val_loss: 4.5929 - val_accuracy: 0.3828\n",
      "Epoch 33/50\n",
      "89/89 [==============================] - 107s 1s/step - loss: 0.6997 - accuracy: 0.7107 - val_loss: 3.9510 - val_accuracy: 0.3724\n",
      "Epoch 34/50\n",
      "89/89 [==============================] - 102s 1s/step - loss: 0.6759 - accuracy: 0.7347 - val_loss: 4.0007 - val_accuracy: 0.4141\n",
      "Epoch 35/50\n",
      "89/89 [==============================] - 130s 1s/step - loss: 0.6766 - accuracy: 0.7259 - val_loss: 3.9293 - val_accuracy: 0.4557\n",
      "Epoch 36/50\n",
      "89/89 [==============================] - 142s 2s/step - loss: 0.6969 - accuracy: 0.7160 - val_loss: 3.9192 - val_accuracy: 0.4167\n",
      "Epoch 37/50\n",
      "89/89 [==============================] - 166s 2s/step - loss: 0.6818 - accuracy: 0.7156 - val_loss: 4.3438 - val_accuracy: 0.3568\n",
      "Epoch 38/50\n",
      "89/89 [==============================] - 164s 2s/step - loss: 0.6531 - accuracy: 0.7315 - val_loss: 2.9429 - val_accuracy: 0.5026\n",
      "Epoch 39/50\n",
      "89/89 [==============================] - 123s 1s/step - loss: 0.6630 - accuracy: 0.7308 - val_loss: 3.8233 - val_accuracy: 0.4557\n",
      "Epoch 40/50\n",
      "89/89 [==============================] - 122s 1s/step - loss: 0.6893 - accuracy: 0.7146 - val_loss: 4.2666 - val_accuracy: 0.3698\n",
      "Epoch 41/50\n",
      "89/89 [==============================] - 131s 1s/step - loss: 0.6555 - accuracy: 0.7269 - val_loss: 4.0338 - val_accuracy: 0.4531\n",
      "Epoch 42/50\n",
      "89/89 [==============================] - 127s 1s/step - loss: 0.6443 - accuracy: 0.7375 - val_loss: 4.7407 - val_accuracy: 0.3854\n",
      "Epoch 43/50\n",
      "89/89 [==============================] - 120s 1s/step - loss: 0.6473 - accuracy: 0.7452 - val_loss: 3.1438 - val_accuracy: 0.4922\n",
      "Epoch 44/50\n",
      "89/89 [==============================] - 138s 2s/step - loss: 0.6515 - accuracy: 0.7354 - val_loss: 3.7322 - val_accuracy: 0.4531\n",
      "Epoch 45/50\n",
      "89/89 [==============================] - 132s 1s/step - loss: 0.6159 - accuracy: 0.7533 - val_loss: 3.6192 - val_accuracy: 0.4245\n",
      "Epoch 46/50\n",
      "89/89 [==============================] - 182s 2s/step - loss: 0.6281 - accuracy: 0.7488 - val_loss: 4.4249 - val_accuracy: 0.3776\n",
      "Epoch 47/50\n",
      "89/89 [==============================] - 152s 2s/step - loss: 0.6209 - accuracy: 0.7463 - val_loss: 3.3699 - val_accuracy: 0.4219\n",
      "Epoch 48/50\n",
      "89/89 [==============================] - 105s 1s/step - loss: 0.6073 - accuracy: 0.7569 - val_loss: 4.5894 - val_accuracy: 0.4010\n",
      "Epoch 49/50\n",
      "89/89 [==============================] - 101s 1s/step - loss: 0.6089 - accuracy: 0.7562 - val_loss: 4.2348 - val_accuracy: 0.4479\n",
      "Epoch 50/50\n",
      "89/89 [==============================] - 100s 1s/step - loss: 0.6111 - accuracy: 0.7516 - val_loss: 3.6513 - val_accuracy: 0.4948\n"
     ]
    }
   ],
   "source": [
    "epochs=50\n",
    "train_samples = 2870\n",
    "test_samples = 394\n",
    "history = model.fit(\n",
    "                    train_generator,\n",
    "                    epochs=epochs, \n",
    "                    steps_per_epoch = train_samples//32, \n",
    "                    validation_data = validation_generator, \n",
    "                    #verbose = 1, \n",
    "                    validation_steps = test_samples//32\n",
    ")"
   ]
  },
  {
   "cell_type": "code",
   "execution_count": null,
   "metadata": {},
   "outputs": [],
   "source": [
    "import numpy as np\n",
    "\n",
    "#from google.colab import files\n",
    "from keras.preprocessing import image\n",
    "\n",
    "#uploaded=files.upload()\n",
    "\n",
    "#for fn in uploaded.keys():\n",
    " \n",
    "  # predicting images\n",
    "path='/Users/glipne/Desktop/Python/AI:ML/brain_tumer_detection/trial/gg (27).jpg'\n",
    "img=image.load_img(path, target_size=(240,240))\n",
    "  \n",
    "x=image.img_to_array(img)\n",
    "x=np.expand_dims(x, axis=0)\n",
    "images = np.vstack([x])\n",
    "  \n",
    "classes = model.predict(images)\n",
    "for cls in train_generator.class_indices:\n",
    "    print(cls+ \" : \"+str(classes[0][train_generator.class_indices[cls]]))\n",
    "    "
   ]
  },
  {
   "cell_type": "code",
   "execution_count": 31,
   "metadata": {},
   "outputs": [
    {
     "data": {
      "image/png": "[encoded data removed]",
      "text/plain": [
       "<Figure size 432x288 with 1 Axes>"
      ]
     },
     "metadata": {
      "needs_background": "light"
     },
     "output_type": "display_data"
    },
    {
     "data": {
      "image/png": "[encoded data removed]",
      "text/plain": [
       "<Figure size 432x288 with 1 Axes>"
      ]
     },
     "metadata": {
      "needs_background": "light"
     },
     "output_type": "display_data"
    },
    {
     "data": {
      "text/plain": [
       "<Figure size 432x288 with 0 Axes>"
      ]
     },
     "metadata": {},
     "output_type": "display_data"
    }
   ],
   "source": [
    "\n",
    "# plot the loss\n",
    "import matplotlib.pyplot as plt\n",
    "plt.plot(history.history['loss'], label='train loss')\n",
    "plt.plot(history.history['val_loss'], label='val loss')\n",
    "plt.legend()\n",
    "plt.show()\n",
    "plt.savefig('LossVal_loss')\n",
    "\n",
    "# plot the accuracy\n",
    "plt.plot(history.history['accuracy'], label='train acc')\n",
    "plt.plot(history.history['val_accuracy'], label='val acc')\n",
    "plt.legend()\n",
    "plt.show()\n",
    "plt.savefig('AccVal_acc')"
   ]
  },
  {
   "cell_type": "code",
   "execution_count": null,
   "metadata": {},
   "outputs": [],
   "source": []
  }
 ],
 "metadata": {
  "kernelspec": {
   "display_name": "Python 3",
   "language": "python",
   "name": "python3"
  },
  "language_info": {
   "codemirror_mode": {
    "name": "ipython",
    "version": 3
   },
   "file_extension": ".py",
   "mimetype": "text/x-python",
   "name": "python",
   "nbconvert_exporter": "python",
   "pygments_lexer": "ipython3",
   "version": "3.8.5"
  }
 },
 "nbformat": 4,
 "nbformat_minor": 4
}
